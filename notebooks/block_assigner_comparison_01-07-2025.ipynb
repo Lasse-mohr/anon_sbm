{
 "cells": [
  {
   "cell_type": "markdown",
   "id": "03332c1a",
   "metadata": {},
   "source": [
    "# Notebook for comparing the quality of block-assignment strategies"
   ]
  },
  {
   "cell_type": "code",
   "execution_count": 1,
   "id": "ca236c42",
   "metadata": {},
   "outputs": [],
   "source": [
    "from pathlib import Path\n",
    "\n",
    "import numpy as np\n",
    "import pandas as pd\n",
    "import scipy.sparse as sp\n",
    "\n",
    "from sbm.io import GraphLoader\n",
    "from sbm.block_assigner import AssignerConstructor"
   ]
  },
  {
   "cell_type": "code",
   "execution_count": 2,
   "id": "75c16b11",
   "metadata": {},
   "outputs": [],
   "source": [
    "g = GraphLoader.load(\n",
    "    Path(\"/Users/lmmi/anon_sbm/data/processed/congress_twitter.edgelist\"),\n",
    "    force_undirected=True, # type: ignore\n",
    "    )\n",
    "#g = GraphLoader.load(\n",
    "#    Path(\"/Users/lmmi/anon_sbm/data/processed/lastfm_asia.edgelist\"),\n",
    "#    force_undirected=True, # type: ignore\n",
    "#    )"
   ]
  },
  {
   "cell_type": "code",
   "execution_count": 3,
   "id": "e54ed4ac",
   "metadata": {},
   "outputs": [],
   "source": [
    "rng = np.random.default_rng(1) # type: ignore\n",
    "k = 3"
   ]
  },
  {
   "cell_type": "code",
   "execution_count": 4,
   "id": "e8d0bf40",
   "metadata": {},
   "outputs": [],
   "source": [
    "assigner_const = AssignerConstructor(rng=rng)\n",
    "uniform_assigner = assigner_const.create_assigner(\n",
    "    graph_data=g,\n",
    "    min_block_size=k, # type: ignore\n",
    "    init_method=\"uniform\", # type: ignore\n",
    "    )\n",
    "prone_assigner = assigner_const.create_assigner(\n",
    "    graph_data=g,\n",
    "    min_block_size=k, # type: ignore\n",
    "    init_method=\"prone_and_kmeans\", # type: ignore\n",
    "    )\n",
    "metis_assigner = assigner_const.create_assigner(\n",
    "    graph_data=g,\n",
    "    min_block_size=k, # type: ignore\n",
    "    init_method=\"metis\", # type: ignore\n",
    "    )\n",
    "metis_ref_assigner = assigner_const.create_assigner(\n",
    "    graph_data=g,\n",
    "    min_block_size=k, # type: ignore\n",
    "    init_method=\"metis_refine\", # type: ignore\n",
    "    )"
   ]
  },
  {
   "cell_type": "code",
   "execution_count": 10,
   "id": "6030cfba",
   "metadata": {},
   "outputs": [
    {
     "name": "stdout",
     "output_type": "stream",
     "text": [
      "[158, 83]\n",
      "[158]\n"
     ]
    }
   ],
   "source": [
    "uniform_blocks = uniform_assigner.compute_assignment()\n",
    "#prone_blocks = prone_assigner.compute_assignment()\n",
    "metis_blocks = metis_assigner.compute_assignment()\n",
    "metis_ref_blocks = metis_ref_assigner.compute_assignment()"
   ]
  },
  {
   "cell_type": "code",
   "execution_count": 11,
   "id": "8b91f480",
   "metadata": {},
   "outputs": [
    {
     "name": "stdout",
     "output_type": "stream",
     "text": [
      "{3, 4}\n",
      "{2, 3, 4, 5}\n",
      "{3, 4}\n"
     ]
    }
   ],
   "source": [
    "print(set(uniform_blocks.block_sizes.values()))\n",
    "#print(set(prone_blocks.block_sizes.values()))\n",
    "print(set(metis_blocks.block_sizes.values()))\n",
    "print(set(metis_ref_blocks.block_sizes.values()))"
   ]
  },
  {
   "cell_type": "code",
   "execution_count": 12,
   "id": "399008f8",
   "metadata": {},
   "outputs": [
    {
     "name": "stdout",
     "output_type": "stream",
     "text": [
      "\n",
      "Small graph likelihood comparison:\n",
      "    Uniform assignment likelihood: 8261.40\n",
      "    Metis assignment likelihood: 4820.68\n",
      "    Metis-refine assignment likelihood: 4862.17\n",
      "\n"
     ]
    }
   ],
   "source": [
    "# compute likelihood of the assignments\n",
    "from sbm.likelihood import compute_global_bernoulli_ll_fast\n",
    "\n",
    "uniform_nll = -compute_global_bernoulli_ll_fast(uniform_blocks)\n",
    "#prone_ll = compute_global_bernoulli_ll_fast(prone_blocks)\n",
    "metis_nll = -compute_global_bernoulli_ll_fast(metis_blocks)\n",
    "metis_ref_nll = -compute_global_bernoulli_ll_fast(metis_ref_blocks)\n",
    "\n",
    "print(f\"\"\"\n",
    "Small graph likelihood comparison:\n",
    "    Uniform assignment likelihood: {uniform_nll:.2f}\n",
    "    Metis assignment likelihood: {metis_nll:.2f}\n",
    "    Metis-refine assignment likelihood: {metis_ref_nll:.2f}\n",
    "\"\"\")"
   ]
  },
  {
   "cell_type": "code",
   "execution_count": null,
   "id": "f3633444",
   "metadata": {},
   "outputs": [],
   "source": []
  },
  {
   "cell_type": "code",
   "execution_count": null,
   "id": "f2c3d8e0",
   "metadata": {},
   "outputs": [],
   "source": []
  }
 ],
 "metadata": {
  "kernelspec": {
   "display_name": "Python 3",
   "language": "python",
   "name": "python3"
  },
  "language_info": {
   "codemirror_mode": {
    "name": "ipython",
    "version": 3
   },
   "file_extension": ".py",
   "mimetype": "text/x-python",
   "name": "python",
   "nbconvert_exporter": "python",
   "pygments_lexer": "ipython3",
   "version": "3.12.11"
  }
 },
 "nbformat": 4,
 "nbformat_minor": 5
}
